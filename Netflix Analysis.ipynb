{
    "metadata": {
        "kernelspec": {
            "name": "SQL",
            "display_name": "SQL",
            "language": "sql"
        },
        "language_info": {
            "name": "sql",
            "version": ""
        }
    },
    "nbformat_minor": 2,
    "nbformat": 4,
    "cells": [
        {
            "cell_type": "markdown",
            "source": [
                "# Netflix Analysis"
            ],
            "metadata": {
                "azdata_cell_guid": "a7740524-d226-4948-8626-d45bb71af133"
            },
            "attachments": {}
        },
        {
            "cell_type": "markdown",
            "source": [
                "## <u>Introduction</u>\n",
                "\n",
                "Our family Netflix account has been shared between 3 profiles, my brother Chase, my mother Sharleen, and myself for over a decade (2013-2024). In that time, we have all watched hundreds of movies and TV shows of different genres. My analysis will show how similar and different we are as a family when it comes to our taste and watching patterns while we are on Netflix.\n",
                "\n",
                "To determine this, I will be answering 5 questions:\n",
                "\n",
                "> 1. What years did each profile watch the most Netflix in?\n",
                ">     \n",
                "> 2. Which devices does each profile watch on the most?\n",
                ">     \n",
                "> 3. What are the average watching periods over each day of the month across all years?\n",
                ">     \n",
                "> 4. What are the most popular titles for shows and movies by profile?\n",
                ">     \n",
                "> 5. What is the amount of time spent watching each genre by profile and category?\n",
                ">"
            ],
            "metadata": {
                "azdata_cell_guid": "2b34dd6b-24ad-45de-ab42-ce90b85595c2"
            },
            "attachments": {}
        },
        {
            "cell_type": "markdown",
            "source": [
                ""
            ],
            "metadata": {
                "azdata_cell_guid": "80545953-a798-4aa9-98b1-7baf53f38498"
            }
        },
        {
            "cell_type": "markdown",
            "source": [
                "\\# Data Sources\n",
                "\n",
                "Provide info about the source of the data for your mart and links to any supportings"
            ],
            "metadata": {
                "azdata_cell_guid": "3ebbb269-da98-4259-8c8d-b3cae993290c"
            },
            "attachments": {}
        },
        {
            "cell_type": "markdown",
            "source": [
                "\\# Steps to simple mart creation\n",
                "\n",
                "\\-- the following is performed in t-sql against a sql server instance. MS Sequel Server 2022 was used for this project.. any other info here..."
            ],
            "metadata": {
                "azdata_cell_guid": "091683c5-cf08-4655-94de-de9dbce9cfd9"
            },
            "attachments": {}
        },
        {
            "cell_type": "markdown",
            "source": [
                "Intro to Schemas"
            ],
            "metadata": {
                "azdata_cell_guid": "7f93eec2-3605-4867-b86a-f7cb373e77a6"
            },
            "attachments": {}
        },
        {
            "cell_type": "markdown",
            "source": [
                "### <u>Schema Creation</u>\n",
                "\n",
                "- <span style=\"color: var(--vscode-foreground);\">stg</span>\n",
                "- <span style=\"color: var(--vscode-foreground);\">dim&nbsp;</span>   \n",
                "- <span style=\"color: var(--vscode-foreground);\">fact</span>\n",
                "- <span style=\"color: var(--vscode-foreground);\">vw</span>"
            ],
            "metadata": {
                "azdata_cell_guid": "e3fd7c0c-3022-4ffb-9330-ca7b977c1644"
            },
            "attachments": {}
        },
        {
            "cell_type": "markdown",
            "source": [
                "  \n",
                "\n",
                "```\n",
                "USE Netflix_DW;\n",
                "GO\n",
                "\n",
                "IF NOT EXISTS (SELECT * FROM sys.schemas WHERE name = 'dim' ) \n",
                "BEGIN\n",
                "\tEXEC sp_executesql N'CREATE SCHEMA dim AUTHORIZATION dbo;'\n",
                "END\n",
                ";\n",
                "\n",
                "GO\n",
                "\n",
                "IF NOT EXISTS (SELECT * FROM sys.schemas WHERE name = 'stg' ) \n",
                "BEGIN\n",
                "\tEXEC sp_executesql N'CREATE SCHEMA stg AUTHORIZATION dbo;'\n",
                "END\n",
                ";\n",
                "\n",
                "GO\n",
                "\n",
                "IF NOT EXISTS (SELECT * FROM sys.schemas WHERE name = 'fact' ) \n",
                "BEGIN\n",
                "\tEXEC sp_executesql N'CREATE SCHEMA fact AUTHORIZATION dbo;'\n",
                "END\n",
                "\n",
                "\n",
                "IF NOT EXISTS (SELECT * FROM sys.schemas WHERE name =  'vw'  )\n",
                "BEGIN\n",
                "\tEXEC sp_executesql N'CREATE SCHEMA vw AUTHORIZATION dbo;'\n",
                "END\n",
                "\n",
                "```"
            ],
            "metadata": {
                "azdata_cell_guid": "47a54b03-2ead-494a-977f-89c32292efcd"
            },
            "attachments": {}
        },
        {
            "cell_type": "markdown",
            "source": [
                "Intro to Dimensions"
            ],
            "metadata": {
                "azdata_cell_guid": "b03e4ee1-7841-41d4-b755-7d553a752a6d"
            },
            "attachments": {}
        },
        {
            "cell_type": "markdown",
            "source": [
                "### <u>Dimension Creation</u>\n",
                "\n",
                "\\- Tables Creation:\n",
                "\n",
                "\\- dim.Genres\n",
                "\n",
                "\\-dim.Calendar\n",
                "\n",
                "\\-dim.t3....\n",
                "\n",
                "fact.Viewing"
            ],
            "metadata": {
                "azdata_cell_guid": "cefe7a30-a788-474e-bafe-da9a631734d0"
            },
            "attachments": {}
        },
        {
            "cell_type": "markdown",
            "source": [
                "```\n",
                "IF NOT EXISTS (SELECT * FROM INFORMATION_SCHEMA.TABLES WHERE TABLE_SCHEMA = 'dim' AND TABLE_NAME = 'Calendar')\n",
                "BEGIN\n",
                "\tCREATE TABLE dim.Calendar(\n",
                "       PK_CalendarDate DATE NOT NULL,\n",
                "       Year INT NOT NULL,\n",
                "       Month TINYINT NOT NULL,\n",
                "       MonthName NVARCHAR(10) NULL,\n",
                "       Day TINYINT NOT NULL,\n",
                "\t   DayName NVARCHAR(10) NULL,\n",
                "\t   Weekend NVARCHAR(3) NULL,\n",
                "\t   WeekofYear TINYINT NOT NULL\n",
                "       );\n",
                "\n",
                "\tALTER TABLE dim.Calendar\n",
                "\tADD CONSTRAINT PK_Date PRIMARY KEY(PK_CalendarDate);\n",
                "\n",
                "END\n",
                "```"
            ],
            "metadata": {
                "azdata_cell_guid": "7ea5b61e-6c6e-4669-aae8-48b431823552"
            },
            "attachments": {}
        },
        {
            "cell_type": "markdown",
            "source": [
                ""
            ],
            "metadata": {
                "azdata_cell_guid": "b3256ba6-e97c-4df2-a667-0ef791c3617e"
            }
        },
        {
            "cell_type": "markdown",
            "source": [
                "```\n",
                "IF NOT EXISTS (SELECT * FROM INFORMATION_SCHEMA.TABLES WHERE TABLE_SCHEMA = 'dim' AND TABLE_NAME = 'Devices')\n",
                "BEGIN\n",
                "\tCREATE TABLE dim.Devices(\n",
                "\t   Device_ID TINYINT NOT NULL,\n",
                "\t   Device_Type NVARCHAR(50) NULL,\n",
                "\t   Times_Device_Used SMALLINT NOT NULL,\n",
                "\t   Device_Usage NVARCHAR(20) NULL\n",
                "       );\n",
                "\n",
                "\tALTER TABLE dim.Devices\n",
                "\tADD CONSTRAINT PK_Devices PRIMARY KEY(Device_ID);\n",
                "\n",
                "END\n",
                "```"
            ],
            "metadata": {
                "azdata_cell_guid": "0f8e0260-d11b-4fec-9b5d-ab58b38f2026"
            },
            "attachments": {}
        },
        {
            "cell_type": "markdown",
            "source": [
                ""
            ],
            "metadata": {
                "azdata_cell_guid": "f4b069b4-959b-443e-adab-853b1317cd11"
            }
        },
        {
            "cell_type": "markdown",
            "source": [
                "```\n",
                "IF NOT EXISTS (SELECT * FROM INFORMATION_SCHEMA.TABLES WHERE TABLE_SCHEMA = 'dim' AND TABLE_NAME = 'Genres')\n",
                "BEGIN\n",
                "\tCREATE TABLE dim.Genres(\n",
                "\t   Genre_ID TINYINT NOT NULL,\n",
                "\t   Genre NVARCHAR(25) NOT NULL\n",
                "       );\n",
                "\n",
                "\tALTER TABLE dim.Genres\n",
                "\tADD CONSTRAINT PK_Genre PRIMARY KEY(Genre_ID);\n",
                "\n",
                "END\n",
                "```"
            ],
            "metadata": {
                "azdata_cell_guid": "5e25f98c-e787-48cd-8ce0-94263473a17d"
            },
            "attachments": {}
        },
        {
            "cell_type": "markdown",
            "source": [
                ""
            ],
            "metadata": {
                "azdata_cell_guid": "6297311e-fecb-48f8-8b13-411476057e9d"
            }
        },
        {
            "cell_type": "markdown",
            "source": [
                "```\n",
                "IF NOT EXISTS (SELECT * FROM INFORMATION_SCHEMA.TABLES WHERE TABLE_SCHEMA = 'dim' AND TABLE_NAME = 'Profiles')\n",
                "BEGIN\n",
                "\tCREATE TABLE dim.Profiles(\n",
                "\t   Profile_ID TINYINT NOT NULL,\n",
                "\t   Profile_Name NVARCHAR(10) NOT NULL\n",
                "       );\n",
                "\n",
                "\tALTER TABLE dim.Profiles\n",
                "\tADD CONSTRAINT PK_Profile PRIMARY KEY(Profile_ID);\n",
                "\n",
                "\tALTER TABLE dim.Profiles\n",
                "\tADD CONSTRAINT UC_Profile UNIQUE (Profile_Name);\n",
                "\n",
                "\n",
                "END\n",
                "```"
            ],
            "metadata": {
                "azdata_cell_guid": "f5ade642-1d5f-4117-be2e-8d291d0af32d"
            },
            "attachments": {}
        },
        {
            "cell_type": "markdown",
            "source": [
                ""
            ],
            "metadata": {
                "azdata_cell_guid": "c558ad55-e5c3-419c-bb68-bb73701454fd"
            }
        },
        {
            "cell_type": "markdown",
            "source": [
                "```\n",
                "--Dim tables to form new dim\n",
                "\n",
                "IF NOT EXISTS (SELECT * FROM INFORMATION_SCHEMA.TABLES WHERE TABLE_SCHEMA = 'dim' AND TABLE_NAME = 'Shows')\n",
                "BEGIN\n",
                "    CREATE TABLE dim.Shows(\n",
                "       ShowID smallint NOT NULL,\n",
                "       Show_Name nvarchar(100) NOT NULL,\n",
                "       Genre nvarchar(25) NOT NULL,\n",
                "       );\n",
                "\n",
                "END\n",
                "\n",
                "```\n",
                "```\n",
                "IF NOT EXISTS (SELECT * FROM INFORMATION_SCHEMA.TABLES WHERE TABLE_SCHEMA = 'dim' AND TABLE_NAME = 'Movies')\n",
                "BEGIN\n",
                "    CREATE TABLE dim.Movies(\n",
                "       MovieID smallint NOT NULL,\n",
                "       Movie_Name nvarchar(100) NOT NULL,\n",
                "       Genre nvarchar(25) NOT NULL,\n",
                "       );\n",
                "\n",
                "END\n",
                "```"
            ],
            "metadata": {
                "azdata_cell_guid": "d0dbbdb8-ea81-4a11-a7fb-6fd4cf6332f0"
            },
            "attachments": {}
        },
        {
            "cell_type": "markdown",
            "source": [
                ""
            ],
            "metadata": {
                "azdata_cell_guid": "abc853ad-4b72-4d57-b018-774eec891b44"
            }
        },
        {
            "cell_type": "markdown",
            "source": [
                "```\n",
                "--New dim\n",
                "\n",
                "IF NOT EXISTS (SELECT * FROM INFORMATION_SCHEMA.TABLES WHERE TABLE_SCHEMA = 'dim' AND TABLE_NAME = 'Titles')\n",
                "BEGIN\n",
                "    CREATE TABLE dim.Titles (\n",
                "       PK_MovieShow_ID INT IDENTITY(1,1) NOT NULL,\n",
                "       Title VARCHAR(100) NOT NULL,\n",
                "       Genre NVARCHAR(25) NOT NULL,\n",
                "\t   Title_ID SMALLINT NULL,\n",
                "\t   [Type] NVARCHAR(6) NULL,\n",
                "       );\n",
                "\n",
                "\tALTER TABLE dim.Titles\n",
                "\tADD CONSTRAINT NetflixID PRIMARY KEY(PK_MovieShow_ID);\n",
                "\n",
                "END\n",
                "```"
            ],
            "metadata": {
                "azdata_cell_guid": "24feeac1-f34b-423f-a2bd-dfa20bd38e37"
            },
            "attachments": {}
        },
        {
            "cell_type": "markdown",
            "source": [
                ""
            ],
            "metadata": {
                "azdata_cell_guid": "5ad0434a-62fd-4a88-afcb-d23447eaa12f"
            }
        },
        {
            "cell_type": "markdown",
            "source": [
                "```\n",
                "-- Fact tables\n",
                "IF NOT EXISTS (SELECT * FROM INFORMATION_SCHEMA.TABLES WHERE TABLE_SCHEMA = 'fact' AND TABLE_NAME = 'NetflixShows')\n",
                "BEGIN\n",
                "    CREATE TABLE fact.NetflixShows (\n",
                "        PK_Shows_ID INT IDENTITY(1,1) NOT NULL,\n",
                "        [Date] DATE NOT NULL,\n",
                "        Show_Name NVARCHAR(100) NOT NULL,\n",
                "        Profile_ID TINYINT NOT NULL,\n",
                "        Show_ID SMALLINT NOT NULL,\n",
                "        Genre_ID TINYINT NOT NULL,\n",
                "        Device_ID TINYINT NOT NULL,\n",
                "        Total_Duration FLOAT NOT NULL\n",
                "        );\n",
                "END\n",
                "\n",
                "```\n",
                "```\n",
                "IF NOT EXISTS (SELECT * FROM INFORMATION_SCHEMA.TABLES WHERE TABLE_SCHEMA = 'fact' AND TABLE_NAME = 'NetflixMovies')\n",
                "BEGIN\n",
                "\tCREATE TABLE fact.NetflixMovies (\n",
                "        PK_Movies_ID INT IDENTITY(1,1) NOT NULL,\n",
                "        [Date] DATE NOT NULL,\n",
                "        Movie_Name NVARCHAR(100) NOT NULL,\n",
                "        Profile_ID TINYINT NOT NULL,\n",
                "        Movie_ID SMALLINT NOT NULL,\n",
                "        Genre_ID TINYINT NOT NULL,\n",
                "        Device_ID TINYINT NOT NULL,\n",
                "        Total_Duration FLOAT NOT NULL\n",
                "    );\n",
                "END\n",
                "```"
            ],
            "metadata": {
                "azdata_cell_guid": "6adca34c-748a-4df8-b483-988658f11246"
            },
            "attachments": {}
        },
        {
            "cell_type": "markdown",
            "source": [
                ""
            ],
            "metadata": {
                "azdata_cell_guid": "4321887d-3426-402c-9be5-5ac884deffd5"
            }
        },
        {
            "cell_type": "markdown",
            "source": [
                "```\n",
                "--New fact\n",
                "IF NOT EXISTS (SELECT * FROM INFORMATION_SCHEMA.TABLES WHERE TABLE_SCHEMA = 'fact' AND TABLE_NAME = 'Netflix')\n",
                "BEGIN\n",
                "    CREATE TABLE fact.Netflix (\n",
                "        PK_Netflix_ID INT IDENTITY(1,1) NOT NULL,\n",
                "        [Date] DATE NOT NULL,\n",
                "        Title NVARCHAR(100) NOT NULL,\n",
                "        Profile_ID TINYINT NOT NULL,\n",
                "        Title_ID SMALLINT NOT NULL,\n",
                "        Genre_ID TINYINT NOT NULL,\n",
                "        Device_ID TINYINT NOT NULL,\n",
                "        Total_Duration FLOAT NOT NULL\n",
                ");\n",
                "\n",
                "\n",
                "    ALTER TABLE fact.Netflix\n",
                "    ADD CONSTRAINT PK_Netflix PRIMARY KEY (PK_Netflix_ID);\n",
                "\n",
                "    ALTER TABLE fact.Netflix\n",
                "    ADD CONSTRAINT FK_NETFLIXtoCAL\n",
                "    FOREIGN KEY ([Date])\n",
                "    REFERENCES dim.Calendar(PK_CalendarDate);\n",
                "\n",
                "    ALTER TABLE fact.Netflix\n",
                "    ADD CONSTRAINT FK_NETFLIXtoPROFILE\n",
                "    FOREIGN KEY (Profile_ID)\n",
                "    REFERENCES dim.Profiles(Profile_ID);\n",
                "\n",
                "    ALTER TABLE fact.Netflix\n",
                "    ADD CONSTRAINT FK_NETFLIXtoDEVICE\n",
                "    FOREIGN KEY (Device_ID)\n",
                "    REFERENCES dim.Devices(Device_ID);\n",
                "\n",
                "END\n",
                "\n",
                "```"
            ],
            "metadata": {
                "azdata_cell_guid": "1342b0ed-926a-4fbf-aad8-3c6731ae90b4"
            },
            "attachments": {}
        },
        {
            "cell_type": "markdown",
            "source": [
                ""
            ],
            "metadata": {
                "azdata_cell_guid": "8217eddf-92a1-41d0-a78a-514d86320f87"
            },
            "attachments": {}
        },
        {
            "cell_type": "markdown",
            "source": [
                "ERD EX"
            ],
            "metadata": {
                "azdata_cell_guid": "9bb8eb3a-3ce4-40c5-b24b-5d1dc9653625"
            },
            "attachments": {}
        },
        {
            "cell_type": "markdown",
            "source": [
                "\\-- Insert link \n",
                "\n",
                "  \n",
                "\n",
                "\\-- Insert image itself"
            ],
            "metadata": {
                "azdata_cell_guid": "5ecce5f6-e620-442a-92e4-db3e089c39c3"
            },
            "attachments": {}
        }
    ]
}